{
 "cells": [
  {
   "cell_type": "markdown",
   "metadata": {},
   "source": [
    "# Iris Dataset"
   ]
  },
  {
   "cell_type": "markdown",
   "metadata": {},
   "source": [
    " The Iris dataset is one of the most common datasets used to explain data science fundamentals . The dataset is a record of feature measurements (petal lengths and widths, sepal lengths and widths) of different species of Iris flowers. \n",
    "\n",
    "- This data was used in 1936 by Ronald A. Fisher to determine if you can identify species of Iris flower just by measuring the lengths and widths of sepals and petals. He published his results [here](http://rcs.chemometrics.ru/Tutorials/classification/Fisher.pdf)."
   ]
  },
  {
   "cell_type": "markdown",
   "metadata": {},
   "source": [
    "The iris dataset contains the following data\n",
    " - 50 samples of 3 different species of iris:\n",
    "     - Iris Versicolor\n",
    "     - Iris Setosa\n",
    "     - Iris Virginica\n",
    " - Measurements: sepal length, sepal width, petal length, petal width\n",
    "The format for the data: (sepal length, sepal width, petal length, petal width)"
   ]
  },
  {
   "cell_type": "markdown",
   "metadata": {},
   "source": [
    "<img src=\"./media/iris.png\">\n",
    "\n",
    "source : https://www.ritchieng.com/machine-learning-iris-dataset/"
   ]
  },
  {
   "cell_type": "markdown",
   "metadata": {},
   "source": [
    "Resources:\n",
    "- https://medium.com/@j_endrinal/exploring-the-iris-dataset-260cc1e5cdf7\n",
    "- http://rcs.chemometrics.ru/Tutorials/classification/Fisher.pdf\n"
   ]
  },
  {
   "cell_type": "code",
   "execution_count": null,
   "metadata": {},
   "outputs": [],
   "source": []
  },
  {
   "cell_type": "code",
   "execution_count": null,
   "metadata": {},
   "outputs": [],
   "source": []
  }
 ],
 "metadata": {
  "kernelspec": {
   "display_name": "Python 3",
   "language": "python",
   "name": "python3"
  },
  "language_info": {
   "name": ""
  }
 },
 "nbformat": 4,
 "nbformat_minor": 2
}
