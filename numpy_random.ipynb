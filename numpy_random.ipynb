{
 "cells": [
  {
   "cell_type": "markdown",
   "metadata": {},
   "source": [
    "# Numpy Random Package"
   ]
  },
  {
   "cell_type": "markdown",
   "metadata": {},
   "source": [
    "Numpy.Random is a Python-based package used for genrerating random numbers. \n",
    "- It is a sub-package of Numpy.\n",
    "- Numpy's key feature is the use of n-dimensional arrays( NumPy arrays).\n",
    "\t- NumPy arrays facilitate advanced mathematical and other types of operations on large numbers of data.\n",
    "\n",
    "Numpy can be imported and used as folllows:\n"
   ]
  },
  {
   "cell_type": "code",
   "execution_count": 144,
   "metadata": {},
   "outputs": [],
   "source": [
    "import numpy as np"
   ]
  },
  {
   "cell_type": "markdown",
   "metadata": {},
   "source": [
    "The numpy.random package can be split into **four** components:\n",
    "\n",
    " 1. Simple Random Data\n",
    " 2. Permutations\n",
    " 3. Distributions\n",
    " 4. Random Generator"
   ]
  },
  {
   "cell_type": "markdown",
   "metadata": {},
   "source": [
    "### Simple Random Data\n",
    "\n",
    "- Used for generating simple random data\n",
    "\n",
    "#### numpy.random.rand()\n",
    "- Generates random numbers\n",
    "- Add params to specifiy the dimensions of the array to be populated with random numbers"
   ]
  },
  {
   "cell_type": "code",
   "execution_count": 145,
   "metadata": {},
   "outputs": [
    {
     "data": {
      "text/plain": [
       "array([[0.16343497, 0.382811  , 0.53246654, 0.11145394, 0.30198955],\n",
       "       [0.20777834, 0.96049129, 0.11831986, 0.04031635, 0.75756143],\n",
       "       [0.09200947, 0.66576783, 0.21053041, 0.76508563, 0.87209675]])"
      ]
     },
     "execution_count": 145,
     "metadata": {},
     "output_type": "execute_result"
    }
   ],
   "source": [
    " np.random.rand(3,5)"
   ]
  },
  {
   "cell_type": "markdown",
   "metadata": {},
   "source": [
    "- The rand function returns numbers from a uniform distribution over [0,1]\n",
    "    - i.e returns a number between 0(including) and 1(not including).\n",
    "- The following histogram shows the distribution of numbers using the rand function\n"
   ]
  },
  {
   "cell_type": "code",
   "execution_count": 146,
   "metadata": {},
   "outputs": [
    {
     "data": {
      "image/png": "[encoded data removed]",
      "text/plain": [
       "<Figure size 432x288 with 1 Axes>"
      ]
     },
     "metadata": {
      "needs_background": "light"
     },
     "output_type": "display_data"
    }
   ],
   "source": [
    "import matplotlib.pyplot as plt\n",
    "x = np.random.rand(1000)\n",
    "plt.hist(x)\n",
    "plt.show()"
   ]
  },
  {
   "cell_type": "markdown",
   "metadata": {},
   "source": [
    "### Distributions\n",
    "\n",
    "#### np.random.uniform ()\n",
    "- The uniform distribution is a probability distribution that has a constant probability\n",
    "- The numpy.random.rand() uses the uniform distribution \n",
    "- Takes 3 parameters\n",
    "    - np.random.uniform(low=0.0, high=1.0, size=None)\n",
    "    - all value will be >= low\n",
    "    - all genrerated values will < high"
   ]
  },
  {
   "cell_type": "code",
   "execution_count": 147,
   "metadata": {},
   "outputs": [],
   "source": [
    "x = np.random.uniform(0,10,1000)"
   ]
  },
  {
   "cell_type": "code",
   "execution_count": 148,
   "metadata": {},
   "outputs": [
    {
     "data": {
      "text/plain": [
       "(array([102., 117., 103.,  90.,  92., 107.,  97.,  94.,  94., 104.]),\n",
       " array([8.26628678e-03, 1.00497561e+00, 2.00168493e+00, 2.99839425e+00,\n",
       "        3.99510357e+00, 4.99181289e+00, 5.98852221e+00, 6.98523153e+00,\n",
       "        7.98194086e+00, 8.97865018e+00, 9.97535950e+00]),\n",
       " <a list of 10 Patch objects>)"
      ]
     },
     "execution_count": 148,
     "metadata": {},
     "output_type": "execute_result"
    },
    {
     "data": {
      "image/png": "[encoded data removed]",
      "text/plain": [
       "<Figure size 432x288 with 1 Axes>"
      ]
     },
     "metadata": {
      "needs_background": "light"
     },
     "output_type": "display_data"
    }
   ],
   "source": [
    "plt.hist(x)"
   ]
  },
  {
   "cell_type": "markdown",
   "metadata": {},
   "source": [
    "#### np.random.normal()\n",
    "- Generates random numbers around a central value\n",
    "- The mean, median and mode are all equal\n",
    "- "
   ]
  },
  {
   "cell_type": "code",
   "execution_count": 149,
   "metadata": {},
   "outputs": [],
   "source": [
    "x = np.random.normal(10,100,10000)"
   ]
  },
  {
   "cell_type": "code",
   "execution_count": 150,
   "metadata": {},
   "outputs": [
    {
     "data": {
      "text/plain": [
       "(array([   6.,   56.,  427., 1519., 2895., 3061., 1531.,  441.,   59.,\n",
       "           5.]),\n",
       " array([-405.02140663, -322.1137015 , -239.20599636, -156.29829123,\n",
       "         -73.3905861 ,    9.51711904,   92.42482417,  175.3325293 ,\n",
       "         258.24023444,  341.14793957,  424.0556447 ]),\n",
       " <a list of 10 Patch objects>)"
      ]
     },
     "execution_count": 150,
     "metadata": {},
     "output_type": "execute_result"
    },
    {
     "data": {
      "image/png": "[encoded data removed]",
      "text/plain": [
       "<Figure size 432x288 with 1 Axes>"
      ]
     },
     "metadata": {
      "needs_background": "light"
     },
     "output_type": "display_data"
    }
   ],
   "source": [
    "plt.hist(x, color = \"red\")"
   ]
  },
  {
   "cell_type": "markdown",
   "metadata": {},
   "source": [
    "- In this case, the central value is 0.0\n",
    "- As shown in the histogram above, 99% of the values generated are within 3 standard deviations of the mean\n",
    "\n",
    "#### Normal vs Unifrom\n",
    "- The Normal distribution differs clearly from the uniform, in the visible spread of the numbers generated.\n",
    "- A normal distribution creates the bell shape, centered arounda single value, while the uniform creates an even shape indicating the even spread of random numbers. \n"
   ]
  },
  {
   "cell_type": "markdown",
   "metadata": {},
   "source": [
    "### numpy.random.binomial(n, p[, size])\n",
    "-  Used to determine the number of successes (p) in (n) repeated trials of a binomial experiment\n",
    "- The binomial distribution has only two outcomes, success and failure.\n",
    "    - e.g a coin toss\n",
    "- All binomial trials are independent from each other.\n",
    "- The probability of success doesn’t change from trial to trial"
   ]
  },
  {
   "cell_type": "code",
   "execution_count": 151,
   "metadata": {},
   "outputs": [],
   "source": [
    "n, p = 10, .5  # number of trials, probability of each trial\n",
    "s = np.random.binomial(n, p, 1000)"
   ]
  },
  {
   "cell_type": "code",
   "execution_count": 152,
   "metadata": {},
   "outputs": [
    {
     "data": {
      "text/plain": [
       "<matplotlib.legend.Legend at 0x1e1cb9ba470>"
      ]
     },
     "execution_count": 152,
     "metadata": {},
     "output_type": "execute_result"
    },
    {
     "data": {
      "image/png": "[encoded data removed]",
      "text/plain": [
       "<Figure size 432x288 with 1 Axes>"
      ]
     },
     "metadata": {
      "needs_background": "light"
     },
     "output_type": "display_data"
    }
   ],
   "source": [
    "plt.hist(s, color = \"yellow\", label= \"Binomial Distribution, Coin Toss\")\n",
    "plt.legend()"
   ]
  },
  {
   "cell_type": "markdown",
   "metadata": {},
   "source": [
    "- The histogram above shows a symmetric distribution.\n",
    "- This occurs when the probability of success and failure is equal.\n"
   ]
  },
  {
   "cell_type": "markdown",
   "metadata": {},
   "source": [
    " #### If the probability of success in a trial is greater than 0.5, the distribution will be negatively skewed."
   ]
  },
  {
   "cell_type": "code",
   "execution_count": 153,
   "metadata": {},
   "outputs": [
    {
     "data": {
      "text/plain": [
       "<matplotlib.legend.Legend at 0x1e1cbada710>"
      ]
     },
     "execution_count": 153,
     "metadata": {},
     "output_type": "execute_result"
    },
    {
     "data": {
      "image/png": "[encoded data removed]",
      "text/plain": [
       "<Figure size 432x288 with 1 Axes>"
      ]
     },
     "metadata": {
      "needs_background": "light"
     },
     "output_type": "display_data"
    }
   ],
   "source": [
    "n, p = 10, .8  # number of trials, probability \n",
    "s = np.random.binomial(n, p, 1000) \n",
    "plt.hist(s, color = \"purple\", label=\"Binomial Distribution, negative skew\")\n",
    "plt.legend()"
   ]
  },
  {
   "cell_type": "markdown",
   "metadata": {},
   "source": [
    "- This figure shows the probabilities of success are greater for values above the expected value.\n",
    "- In contrast, if the probability of success in a trial is less than 0.5, the distribution will be positively skewed."
   ]
  },
  {
   "cell_type": "code",
   "execution_count": 154,
   "metadata": {},
   "outputs": [
    {
     "data": {
      "text/plain": [
       "<matplotlib.legend.Legend at 0x1e1cbbd37f0>"
      ]
     },
     "execution_count": 154,
     "metadata": {},
     "output_type": "execute_result"
    },
    {
     "data": {
      "image/png": "[encoded data removed]",
      "text/plain": [
       "<Figure size 432x288 with 1 Axes>"
      ]
     },
     "metadata": {
      "needs_background": "light"
     },
     "output_type": "display_data"
    }
   ],
   "source": [
    "n, p = 100, .2  # number of trials\n",
    "s = np.random.binomial(n, p,1000 ) \n",
    "plt.hist(s, color = \"pink\", label=\"Binomial Distribution, positive skew\")\n",
    "plt.legend()"
   ]
  },
  {
   "cell_type": "code",
   "execution_count": null,
   "metadata": {},
   "outputs": [],
   "source": []
  },
  {
   "cell_type": "code",
   "execution_count": null,
   "metadata": {},
   "outputs": [],
   "source": []
  },
  {
   "cell_type": "code",
   "execution_count": null,
   "metadata": {},
   "outputs": [],
   "source": []
  },
  {
   "cell_type": "code",
   "execution_count": null,
   "metadata": {},
   "outputs": [],
   "source": []
  },
  {
   "cell_type": "code",
   "execution_count": null,
   "metadata": {},
   "outputs": [],
   "source": []
  },
  {
   "cell_type": "code",
   "execution_count": null,
   "metadata": {},
   "outputs": [],
   "source": []
  },
  {
   "cell_type": "code",
   "execution_count": null,
   "metadata": {},
   "outputs": [],
   "source": []
  },
  {
   "cell_type": "code",
   "execution_count": null,
   "metadata": {},
   "outputs": [],
   "source": []
  },
  {
   "cell_type": "code",
   "execution_count": null,
   "metadata": {},
   "outputs": [],
   "source": []
  },
  {
   "cell_type": "code",
   "execution_count": null,
   "metadata": {},
   "outputs": [],
   "source": []
  },
  {
   "cell_type": "code",
   "execution_count": null,
   "metadata": {},
   "outputs": [],
   "source": []
  },
  {
   "cell_type": "code",
   "execution_count": null,
   "metadata": {},
   "outputs": [],
   "source": []
  },
  {
   "cell_type": "code",
   "execution_count": null,
   "metadata": {},
   "outputs": [],
   "source": []
  },
  {
   "cell_type": "code",
   "execution_count": null,
   "metadata": {},
   "outputs": [],
   "source": []
  },
  {
   "cell_type": "markdown",
   "metadata": {},
   "source": [
    "resources:\n",
    "    - https://www.dummies.com/education/math/business-statistics/how-to-graph-the-binomial-distribution/\n",
    "    - https://stattrek.com/probability-distributions/poisson.aspx"
   ]
  }
 ],
 "metadata": {
  "kernelspec": {
   "display_name": "Python 3",
   "language": "python",
   "name": "python3"
  },
  "language_info": {
   "codemirror_mode": {
    "name": "ipython",
    "version": 3
   },
   "file_extension": ".py",
   "mimetype": "text/x-python",
   "name": "python",
   "nbconvert_exporter": "python",
   "pygments_lexer": "ipython3",
   "version": "3.7.0"
  }
 },
 "nbformat": 4,
 "nbformat_minor": 2
}
