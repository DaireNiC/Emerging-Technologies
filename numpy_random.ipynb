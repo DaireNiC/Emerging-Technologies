{
 "cells": [
  {
   "cell_type": "markdown",
   "metadata": {},
   "source": [
    "# Numpy Random Package"
   ]
  },
  {
   "cell_type": "markdown",
   "metadata": {},
   "source": [
    "Numpy.Random is a Python-based package used for genrerating random numbers. \n",
    "- It is a sub-package of Numpy.\n",
    "- Numpy's key feature is the use of n-dimensional arrays( NumPy arrays).\n",
    "\t- NumPy arrays facilitate advanced mathematical and other types of operations on large numbers of data.\n",
    "\n",
    "Numpy can be imported and used as folllows:\n"
   ]
  },
  {
   "cell_type": "code",
   "execution_count": 34,
   "metadata": {},
   "outputs": [],
   "source": [
    "import numpy as np"
   ]
  },
  {
   "cell_type": "markdown",
   "metadata": {},
   "source": [
    "The numpy.random package can be split into **four** components:\n",
    "\n",
    " 1. Simple Random Data\n",
    " 2. Permutations\n",
    " 3. Distributions\n",
    " 4. Random Generator"
   ]
  },
  {
   "cell_type": "markdown",
   "metadata": {},
   "source": [
    "### Simple Random Data\n",
    "\n",
    "- Used for generating simple random data\n",
    "\n",
    "#### numpy.random.rand()\n",
    "- Generates random numbers\n",
    "- Add params to specifiy the dimensions of the array to be populated with random numbers"
   ]
  },
  {
   "cell_type": "code",
   "execution_count": 35,
   "metadata": {},
   "outputs": [
    {
     "data": {
      "text/plain": [
       "array([[0.22260216, 0.55141373, 0.22368794, 0.95349624, 0.73358313],\n",
       "       [0.84608788, 0.25407742, 0.2064844 , 0.87174296, 0.18147689],\n",
       "       [0.44487447, 0.01808744, 0.62796715, 0.43000832, 0.6422063 ]])"
      ]
     },
     "execution_count": 35,
     "metadata": {},
     "output_type": "execute_result"
    }
   ],
   "source": [
    " np.random.rand(3,5)"
   ]
  },
  {
   "cell_type": "markdown",
   "metadata": {},
   "source": [
    "- The rand function returns numbers from a uniform distribution over [0,1]\n",
    "    - i.e returns a number between 0(including) and 1(not including).\n",
    "- The following histogram shows the distribution of numbers using the rand function\n"
   ]
  },
  {
   "cell_type": "code",
   "execution_count": 36,
   "metadata": {},
   "outputs": [
    {
     "data": {
      "image/png": "[encoded data removed]",
      "text/plain": [
       "<Figure size 432x288 with 1 Axes>"
      ]
     },
     "metadata": {
      "needs_background": "light"
     },
     "output_type": "display_data"
    }
   ],
   "source": [
    "import matplotlib.pyplot as plt\n",
    "x = np.random.rand(1000)\n",
    "plt.hist(x)\n",
    "plt.show()"
   ]
  },
  {
   "cell_type": "markdown",
   "metadata": {},
   "source": [
    "### Distributions\n",
    "\n",
    "#### np.random.uniform ()\n",
    "- The uniform distribution is a probability distribution that has a constant probability\n",
    "- The numpy.random.rand() uses the uniform distribution \n",
    "- Takes 3 parameters\n",
    "    - np.random.uniform(low=0.0, high=1.0, size=None)\n",
    "    - all value will be >= low\n",
    "    - all genrerated values will < high"
   ]
  },
  {
   "cell_type": "code",
   "execution_count": 37,
   "metadata": {},
   "outputs": [],
   "source": [
    "x = np.random.uniform(0,10,1000)"
   ]
  },
  {
   "cell_type": "code",
   "execution_count": 38,
   "metadata": {},
   "outputs": [
    {
     "data": {
      "text/plain": [
       "(array([ 98., 110., 115.,  93., 109.,  88., 115., 108.,  77.,  87.]),\n",
       " array([9.96551072e-04, 1.00020388e+00, 1.99941121e+00, 2.99861855e+00,\n",
       "        3.99782588e+00, 4.99703321e+00, 5.99624054e+00, 6.99544787e+00,\n",
       "        7.99465521e+00, 8.99386254e+00, 9.99306987e+00]),\n",
       " <a list of 10 Patch objects>)"
      ]
     },
     "execution_count": 38,
     "metadata": {},
     "output_type": "execute_result"
    },
    {
     "data": {
      "image/png": "[encoded data removed]",
      "text/plain": [
       "<Figure size 432x288 with 1 Axes>"
      ]
     },
     "metadata": {
      "needs_background": "light"
     },
     "output_type": "display_data"
    }
   ],
   "source": [
    "plt.hist(x)"
   ]
  },
  {
   "cell_type": "markdown",
   "metadata": {},
   "source": [
    "#### np.random.normal()\n",
    "- Generates random numbers around a central value\n",
    "- The mean, median and mode are all equal\n",
    "- "
   ]
  },
  {
   "cell_type": "code",
   "execution_count": 39,
   "metadata": {},
   "outputs": [],
   "source": [
    "x = np.random.normal(10,100,10000)"
   ]
  },
  {
   "cell_type": "code",
   "execution_count": 44,
   "metadata": {},
   "outputs": [
    {
     "data": {
      "text/plain": [
       "(array([   6.,   36.,  287., 1121., 2462., 2987., 2157.,  759.,  164.,\n",
       "          21.]),\n",
       " array([-411.64358174, -333.00679397, -254.3700062 , -175.73321843,\n",
       "         -97.09643066,  -18.45964289,   60.17714488,  138.81393265,\n",
       "         217.45072042,  296.08750819,  374.72429596]),\n",
       " <a list of 10 Patch objects>)"
      ]
     },
     "execution_count": 44,
     "metadata": {},
     "output_type": "execute_result"
    },
    {
     "data": {
      "image/png": "[encoded data removed]",
      "text/plain": [
       "<Figure size 432x288 with 1 Axes>"
      ]
     },
     "metadata": {
      "needs_background": "light"
     },
     "output_type": "display_data"
    }
   ],
   "source": [
    "plt.hist(x, color = \"red\")"
   ]
  },
  {
   "cell_type": "markdown",
   "metadata": {},
   "source": [
    "- As shown in the histogram above, 99% of the values generated are within 3 standard deviations of the mean\n",
    "\n",
    "#### Normal vs Unifrom\n",
    "- The Normal distribution differs clearly from the uniform, in the visible spread of the numbers generated.\n",
    "- A normal distribution creates the bell shape, centered arounda single value, while the uniform creates an even shape indicating the even spread of random numbers. \n"
   ]
  },
  {
   "cell_type": "code",
   "execution_count": null,
   "metadata": {},
   "outputs": [],
   "source": []
  },
  {
   "cell_type": "code",
   "execution_count": null,
   "metadata": {
    "collapsed": true
   },
   "outputs": [],
   "source": []
  },
  {
   "cell_type": "code",
   "execution_count": null,
   "metadata": {},
   "outputs": [],
   "source": []
  },
  {
   "cell_type": "code",
   "execution_count": null,
   "metadata": {},
   "outputs": [],
   "source": []
  },
  {
   "cell_type": "code",
   "execution_count": null,
   "metadata": {},
   "outputs": [],
   "source": []
  },
  {
   "cell_type": "code",
   "execution_count": null,
   "metadata": {},
   "outputs": [],
   "source": []
  }
 ],
 "metadata": {
  "kernelspec": {
   "display_name": "Python 3",
   "language": "python",
   "name": "python3"
  },
  "language_info": {
   "codemirror_mode": {
    "name": "ipython",
    "version": 3
   },
   "file_extension": ".py",
   "mimetype": "text/x-python",
   "name": "python",
   "nbconvert_exporter": "python",
   "pygments_lexer": "ipython3",
   "version": "3.7.0"
  }
 },
 "nbformat": 4,
 "nbformat_minor": 2
}
