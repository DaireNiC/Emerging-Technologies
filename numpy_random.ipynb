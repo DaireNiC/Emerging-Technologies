{
 "cells": [
  {
   "cell_type": "markdown",
   "metadata": {},
   "source": [
    "# Numpy Random Package"
   ]
  },
  {
   "cell_type": "markdown",
   "metadata": {},
   "source": [
    "Numpy.Random is a Python-based package used for genrerating random numbers. \n",
    "\n",
    "- Numpy can be imported and used as folllows:\n"
   ]
  },
  {
   "cell_type": "code",
   "execution_count": 2,
   "metadata": {},
   "outputs": [],
   "source": [
    "import numpy as np"
   ]
  },
  {
   "cell_type": "markdown",
   "metadata": {},
   "source": [
    "The numpy.random package can be split into **four** components:\n",
    "\n",
    " 1. Simple Random Data\n",
    " 2. Permutations\n",
    " 3. Distributions\n",
    " 4. Random Generator"
   ]
  },
  {
   "cell_type": "markdown",
   "metadata": {},
   "source": [
    "### Simple Random Data\n",
    "\n",
    "- Used for generating simple random data\n",
    "- Based on the Mersenne Twister sequence and is considered deterministic.\n",
    "- Not truly random, so the numbers generated using the package are pseudorandom\n",
    "### numpy.random.rand()\n",
    "- Generates random numbers\n",
    "- Add params to specifiy the dimensions of the array to be populated with random numbers"
   ]
  },
  {
   "cell_type": "code",
   "execution_count": 3,
   "metadata": {},
   "outputs": [
    {
     "data": {
      "text/plain": [
       "array([[0.6399621 , 0.97176155, 0.75406721, 0.88249501, 0.15159337],\n",
       "       [0.19517122, 0.30410651, 0.52071527, 0.79788777, 0.94014716],\n",
       "       [0.77961855, 0.1525847 , 0.36335526, 0.47352704, 0.66188198]])"
      ]
     },
     "execution_count": 3,
     "metadata": {},
     "output_type": "execute_result"
    }
   ],
   "source": [
    " np.random.rand(3,5)"
   ]
  },
  {
   "cell_type": "markdown",
   "metadata": {},
   "source": [
    "- The rand function returns numbers from a uniform distribution over [0,1]\n",
    "    - i.e returns a number between 0(including) and 1(not including).\n",
    "- The following histogram shows the distribution of numbers using the rand function\n"
   ]
  },
  {
   "cell_type": "code",
   "execution_count": 4,
   "metadata": {
    "scrolled": true
   },
   "outputs": [
    {
     "data": {
      "text/plain": [
       "<Figure size 640x480 with 1 Axes>"
      ]
     },
     "metadata": {},
     "output_type": "display_data"
    }
   ],
   "source": [
    "import matplotlib.pyplot as plt\n",
    "x = np.random.rand(1000)\n",
    "plt.hist(x)\n",
    "plt.show()"
   ]
  },
  {
   "cell_type": "markdown",
   "metadata": {},
   "source": [
    "## Permutations"
   ]
  },
  {
   "cell_type": "markdown",
   "metadata": {},
   "source": [
    "The np.random package also offers funtionality for randomizing existing arrays.\n"
   ]
  },
  {
   "cell_type": "markdown",
   "metadata": {},
   "source": [
    "#### np.random.shuffle()\n",
    "- Modify an array in-place by shuffling its contents."
   ]
  },
  {
   "cell_type": "code",
   "execution_count": 5,
   "metadata": {},
   "outputs": [
    {
     "data": {
      "text/plain": [
       "array([13,  8, 19, 31, 43,  1, 10, 33,  4, 28,  9, 48,  2, 50,  6, 11, 38,\n",
       "       49, 22, 37, 39, 36, 29, 24, 27, 15, 35, 18, 32, 42, 40, 44, 45, 41,\n",
       "       16, 25, 34, 30, 46, 23,  7,  5, 51,  3, 14, 21, 26,  0, 52, 47, 17,\n",
       "       20, 12])"
      ]
     },
     "execution_count": 5,
     "metadata": {},
     "output_type": "execute_result"
    }
   ],
   "source": [
    "# takes the entries in an array and shuffles them. For example, to shuffle a deck of cards.\n",
    "arr = np.arange(53)\n",
    "np.random.shuffle(arr)\n",
    "arr\n"
   ]
  },
  {
   "cell_type": "markdown",
   "metadata": {},
   "source": [
    "#### np.random.permutation()\n",
    "- makes a copy and shuffle the elements randomly"
   ]
  },
  {
   "cell_type": "code",
   "execution_count": 6,
   "metadata": {},
   "outputs": [
    {
     "data": {
      "text/plain": [
       "array([6, 5, 2, 4, 9, 1, 0, 3, 7, 8])"
      ]
     },
     "execution_count": 6,
     "metadata": {},
     "output_type": "execute_result"
    }
   ],
   "source": [
    "\n",
    "np.random.permutation(np.arange(10))"
   ]
  },
  {
   "cell_type": "markdown",
   "metadata": {},
   "source": [
    "### Distributions\n",
    "\n",
    "#### np.random.uniform ()\n",
    "- The uniform distribution is a probability distribution that has a constant probability\n",
    "- The numpy.random.rand() uses the uniform distribution \n",
    "- Takes 3 parameters\n",
    "    - np.random.uniform(low=0.0, high=1.0, size=None)\n",
    "    - all generated values will be >= low\n",
    "    - all generated values will < high"
   ]
  },
  {
   "cell_type": "code",
   "execution_count": 7,
   "metadata": {},
   "outputs": [],
   "source": [
    "x = np.random.uniform(0,10,1000)"
   ]
  },
  {
   "cell_type": "code",
   "execution_count": 8,
   "metadata": {},
   "outputs": [
    {
     "data": {
      "text/plain": [
       "(array([109.,  98., 112.,  87., 100.,  97.,  90., 110.,  84., 113.]),\n",
       " array([3.18841594e-03, 1.00250831e+00, 2.00182821e+00, 3.00114811e+00,\n",
       "        4.00046801e+00, 4.99978790e+00, 5.99910780e+00, 6.99842770e+00,\n",
       "        7.99774760e+00, 8.99706750e+00, 9.99638739e+00]),\n",
       " <a list of 10 Patch objects>)"
      ]
     },
     "execution_count": 8,
     "metadata": {},
     "output_type": "execute_result"
    },
    {
     "data": {
      "image/png": "[encoded data removed]",
      "text/plain": [
       "<Figure size 432x288 with 1 Axes>"
      ]
     },
     "metadata": {
      "needs_background": "light"
     },
     "output_type": "display_data"
    }
   ],
   "source": [
    "plt.hist(x)"
   ]
  },
  {
   "cell_type": "markdown",
   "metadata": {},
   "source": [
    "#### np.random.normal()\n",
    "- Generates random numbers around a central value\n",
    "- The mean, median and mode are all equal"
   ]
  },
  {
   "cell_type": "code",
   "execution_count": 9,
   "metadata": {},
   "outputs": [],
   "source": [
    "x = np.random.normal(10,100,10000)"
   ]
  },
  {
   "cell_type": "code",
   "execution_count": 10,
   "metadata": {},
   "outputs": [
    {
     "data": {
      "text/plain": [
       "(array([   6.,   27.,  278., 1265., 2936., 3246., 1724.,  450.,   63.,\n",
       "           5.]),\n",
       " array([-438.12632324, -351.13849661, -264.15066997, -177.16284333,\n",
       "         -90.1750167 ,   -3.18719006,   83.80063658,  170.78846322,\n",
       "         257.77628985,  344.76411649,  431.75194313]),\n",
       " <a list of 10 Patch objects>)"
      ]
     },
     "execution_count": 10,
     "metadata": {},
     "output_type": "execute_result"
    },
    {
     "data": {
      "image/png": "[encoded data removed]",
      "text/plain": [
       "<Figure size 432x288 with 1 Axes>"
      ]
     },
     "metadata": {
      "needs_background": "light"
     },
     "output_type": "display_data"
    }
   ],
   "source": [
    "plt.hist(x, color = \"red\")"
   ]
  },
  {
   "cell_type": "markdown",
   "metadata": {},
   "source": [
    "- In this case, the central value is 0.0\n",
    "- As shown in the histogram above, 99% of the values generated are within 3 standard deviations of the mean\n",
    "\n",
    "#### Normal vs Unifrom\n",
    "- The Normal distribution is distinguishable from the uniform in the spread of numbers generated.\n",
    "- Normal distribution values form a bell shape, centered arounda single value. In contrast, the uniform creates an even shape indicating the even spread of random numbers. \n"
   ]
  },
  {
   "cell_type": "markdown",
   "metadata": {},
   "source": [
    "### numpy.random.binomial(n, p[, size])\n",
    "-  Used to determine the number of successes (p) in (n) repeated trials of a binomial experiment\n",
    "- The binomial distribution has only two outcomes, success and failure.\n",
    "    - e.g a coin toss\n",
    "- All binomial trials are independent from each other.\n",
    "- The probability of success doesn’t change from trial to trial"
   ]
  },
  {
   "cell_type": "code",
   "execution_count": 11,
   "metadata": {},
   "outputs": [],
   "source": [
    "n, p = 10, .5  # number of trials, probability of each trial\n",
    "s = np.random.binomial(n, p, 1000)"
   ]
  },
  {
   "cell_type": "code",
   "execution_count": 12,
   "metadata": {},
   "outputs": [
    {
     "data": {
      "text/plain": [
       "<matplotlib.legend.Legend at 0x233dffa2780>"
      ]
     },
     "execution_count": 12,
     "metadata": {},
     "output_type": "execute_result"
    },
    {
     "data": {
      "image/png": "[encoded data removed]",
      "text/plain": [
       "<Figure size 432x288 with 1 Axes>"
      ]
     },
     "metadata": {
      "needs_background": "light"
     },
     "output_type": "display_data"
    }
   ],
   "source": [
    "plt.hist(s, color = \"yellow\", label= \"Binomial Distribution, Coin Toss\")\n",
    "plt.legend()"
   ]
  },
  {
   "cell_type": "markdown",
   "metadata": {},
   "source": [
    "- The histogram above shows a symmetric distribution.\n",
    "- This occurs when the probability of success and failure is equal.\n"
   ]
  },
  {
   "cell_type": "markdown",
   "metadata": {},
   "source": [
    " #### If the probability of success in a trial is greater than 0.5, the distribution will be negatively skewed."
   ]
  },
  {
   "cell_type": "code",
   "execution_count": 13,
   "metadata": {},
   "outputs": [
    {
     "data": {
      "text/plain": [
       "<matplotlib.legend.Legend at 0x233e00256d8>"
      ]
     },
     "execution_count": 13,
     "metadata": {},
     "output_type": "execute_result"
    },
    {
     "data": {
      "image/png": "[encoded data removed]",
      "text/plain": [
       "<Figure size 432x288 with 1 Axes>"
      ]
     },
     "metadata": {
      "needs_background": "light"
     },
     "output_type": "display_data"
    }
   ],
   "source": [
    "n, p = 10, .8  # number of trials, probability \n",
    "s = np.random.binomial(n, p, 1000) \n",
    "plt.hist(s, color = \"purple\", label=\"Binomial Distribution, negative skew\")\n",
    "plt.legend()"
   ]
  },
  {
   "cell_type": "markdown",
   "metadata": {},
   "source": [
    "- This figure shows the probabilities of success are greater for values above the expected value.\n",
    "- In contrast, if the probability of success in a trial is less than 0.5, the distribution will be positively skewed."
   ]
  },
  {
   "cell_type": "code",
   "execution_count": 14,
   "metadata": {},
   "outputs": [
    {
     "data": {
      "text/plain": [
       "<matplotlib.legend.Legend at 0x233e0090518>"
      ]
     },
     "execution_count": 14,
     "metadata": {},
     "output_type": "execute_result"
    },
    {
     "data": {
      "image/png": "[encoded data removed]",
      "text/plain": [
       "<Figure size 432x288 with 1 Axes>"
      ]
     },
     "metadata": {
      "needs_background": "light"
     },
     "output_type": "display_data"
    }
   ],
   "source": [
    "n, p = 100, .2  # number of trials\n",
    "s = np.random.binomial(n, p,1000 ) \n",
    "plt.hist(s, color = \"pink\", label=\"Binomial Distribution, positive skew\")\n",
    "plt.legend()"
   ]
  },
  {
   "cell_type": "markdown",
   "metadata": {},
   "source": [
    "### numpy.random.poisson()\n",
    "- The probability of evevnts occuring at a specific time is Poisson Distribution.\n",
    "- i.e if you are aware of how often the event happened, Poisson Distribution can be used to predict how often that event will occur. \n",
    "- It provideds the likelihood of a given number of events occuring in a set period\n",
    "- For example, the average number of yearly accidents on the Tuam Road is 5.\n",
    "To determine the probability that there are exactly three accidents on the Tuam Road this year you could use a poisson experiment.\n",
    "    "
   ]
  },
  {
   "cell_type": "code",
   "execution_count": 15,
   "metadata": {},
   "outputs": [
    {
     "data": {
      "text/plain": [
       "<matplotlib.legend.Legend at 0x233e012f9b0>"
      ]
     },
     "execution_count": 15,
     "metadata": {},
     "output_type": "execute_result"
    },
    {
     "data": {
      "image/png": "[encoded data removed]",
      "text/plain": [
       "<Figure size 432x288 with 1 Axes>"
      ]
     },
     "metadata": {
      "needs_background": "light"
     },
     "output_type": "display_data"
    }
   ],
   "source": [
    "lam= 5  # lambda is the mean value\n",
    "size = 1000 # for example creates an array of 10000 elements, each drawn from a poissonian probability density function for a mean value of 05.\n",
    "s = np.random.poisson(lam, size)\n",
    "plt.hist(s, color = \"green\", label=\"Poisson Distribution\")\n",
    "plt.legend()"
   ]
  },
  {
   "cell_type": "markdown",
   "metadata": {},
   "source": [
    "### numpy.random.beta()\n",
    "- The Beta distribution is a distribution for probabilities. \n",
    "- Beta distribution is a continuous distribution taking values from 0 to 1.\n",
    "- It is defined by two parameters alpha and beta,\n",
    " - Depending on the values of alpha and beta they can assume very different distributions.\n"
   ]
  },
  {
   "cell_type": "code",
   "execution_count": 16,
   "metadata": {},
   "outputs": [
    {
     "data": {
      "text/plain": [
       "<matplotlib.legend.Legend at 0x233e01b42b0>"
      ]
     },
     "execution_count": 16,
     "metadata": {},
     "output_type": "execute_result"
    },
    {
     "data": {
      "image/png": "[encoded data removed]",
      "text/plain": [
       "<Figure size 432x288 with 1 Axes>"
      ]
     },
     "metadata": {
      "needs_background": "light"
     },
     "output_type": "display_data"
    }
   ],
   "source": [
    "# generate 10000, random numbers from Beta distribution with alpha = 1 and beta = 1.\n",
    "s = np.random.beta(1,1, 1000)\n",
    "plt.hist(s, color = \"orange\", label=\"Beta Distribution\")\n",
    "plt.legend()"
   ]
  },
  {
   "cell_type": "markdown",
   "metadata": {},
   "source": [
    "\n",
    "- As shown above, the histogram of Beta(1,1) is a uniform distribution."
   ]
  },
  {
   "cell_type": "code",
   "execution_count": 17,
   "metadata": {},
   "outputs": [
    {
     "data": {
      "text/plain": [
       "<matplotlib.legend.Legend at 0x233e0238da0>"
      ]
     },
     "execution_count": 17,
     "metadata": {},
     "output_type": "execute_result"
    },
    {
     "data": {
      "image/png": "[encoded data removed]",
      "text/plain": [
       "<Figure size 432x288 with 1 Axes>"
      ]
     },
     "metadata": {
      "needs_background": "light"
     },
     "output_type": "display_data"
    }
   ],
   "source": [
    "# generate 10000, random numbers from Beta distribution with alpha = 10 and beta = 1.\n",
    "s = np.random.beta(10,1, 1000)\n",
    "plt.hist(s, color = \"black\", label=\"Beta Distribution, negative skew\")\n",
    "plt.legend()"
   ]
  },
  {
   "cell_type": "markdown",
   "metadata": {},
   "source": [
    "The histogram of Beta(10,1) is skewed towards right."
   ]
  },
  {
   "cell_type": "code",
   "execution_count": 78,
   "metadata": {},
   "outputs": [
    {
     "data": {
      "text/plain": [
       "<matplotlib.legend.Legend at 0x23015278b38>"
      ]
     },
     "execution_count": 78,
     "metadata": {},
     "output_type": "execute_result"
    },
    {
     "data": {
      "image/png": "[encoded data removed]",
      "text/plain": [
       "<Figure size 432x288 with 1 Axes>"
      ]
     },
     "metadata": {
      "needs_background": "light"
     },
     "output_type": "display_data"
    }
   ],
   "source": [
    "# generate 10000, random numbers from Beta distribution with alpha = 1 and beta = 10.\n",
    "s = np.random.beta(1,10, 1000)\n",
    "plt.hist(s, color = \"magenta\", label=\"Beta Distribution, netagive skew\")\n",
    "plt.legend()"
   ]
  },
  {
   "cell_type": "markdown",
   "metadata": {},
   "source": [
    "The histogram of Beta(1,10) is skewed towards left."
   ]
  },
  {
   "cell_type": "code",
   "execution_count": 79,
   "metadata": {},
   "outputs": [
    {
     "data": {
      "text/plain": [
       "<matplotlib.legend.Legend at 0x230152f3898>"
      ]
     },
     "execution_count": 79,
     "metadata": {},
     "output_type": "execute_result"
    },
    {
     "data": {
      "image/png": "[encoded data removed]",
      "text/plain": [
       "<Figure size 432x288 with 1 Axes>"
      ]
     },
     "metadata": {
      "needs_background": "light"
     },
     "output_type": "display_data"
    }
   ],
   "source": [
    "# generate 10000, random numbers from Beta distribution with alpha = 10 and beta = 10.\n",
    "s = np.random.beta(10,10, 1000)\n",
    "plt.hist(s, color = \"purple\", label=\"Beta Distribution\")\n",
    "plt.legend()"
   ]
  },
  {
   "cell_type": "markdown",
   "metadata": {},
   "source": [
    "The histogram of Beta(10,10) is symetric and looks like the normal distribution."
   ]
  },
  {
   "cell_type": "markdown",
   "metadata": {},
   "source": [
    "## Random Generator"
   ]
  },
  {
   "cell_type": "markdown",
   "metadata": {},
   "source": [
    "### numpy.random.seed()\n",
    "- Using a seed makes the random numbers predictable/repeatable.\n",
    "- When the value is reset, the same numbers will appear every time. This can be useful for example, when writing unit tests or writing explpaining an example, such as in this notebook.\n",
    "- If you do not assign the seed, NumPy automatically selects a random seed value based on the system's random number generator device or on the clock.\n",
    "\n"
   ]
  },
  {
   "cell_type": "code",
   "execution_count": 64,
   "metadata": {},
   "outputs": [
    {
     "name": "stdout",
     "output_type": "stream",
     "text": [
      "[0.5881308  0.89771373 0.89153073 0.81583748 0.03588959]\n"
     ]
    }
   ],
   "source": [
    "np.random.seed(20) \n",
    "print(np.random.rand(5))\n",
    "       "
   ]
  },
  {
   "cell_type": "code",
   "execution_count": 65,
   "metadata": {
    "scrolled": false
   },
   "outputs": [
    {
     "name": "stdout",
     "output_type": "stream",
     "text": [
      "[0.69175758 0.37868094 0.51851095 0.65795147 0.19385022]\n"
     ]
    }
   ],
   "source": [
    "print (np.random.rand(5))"
   ]
  },
  {
   "cell_type": "code",
   "execution_count": 66,
   "metadata": {},
   "outputs": [
    {
     "name": "stdout",
     "output_type": "stream",
     "text": [
      "[0.5881308  0.89771373 0.89153073 0.81583748 0.03588959]\n",
      "[0.69175758 0.37868094 0.51851095 0.65795147 0.19385022]\n"
     ]
    }
   ],
   "source": [
    "np.random.seed(20) # reset the seed to get repeatable results\n",
    "print (np.random.rand(5))\n",
    "print (np.random.rand(5))"
   ]
  },
  {
   "cell_type": "code",
   "execution_count": null,
   "metadata": {},
   "outputs": [],
   "source": []
  },
  {
   "cell_type": "code",
   "execution_count": null,
   "metadata": {},
   "outputs": [],
   "source": []
  },
  {
   "cell_type": "markdown",
   "metadata": {},
   "source": [
    "Adapted from the following resources:\n",
    "    - https://www.dummies.com/education/math/business-statistics/how-to-graph-the-binomial-distribution/\n",
    "    - https://stattrek.com/probability-distributions/poisson.aspx\n",
    "    - https://stattrek.com/probability-distributions/poisson.aspx\n",
    "    - http://cmdlinetips.com/2018/03/probability-distributions-in-python/"
   ]
  },
  {
   "cell_type": "code",
   "execution_count": null,
   "metadata": {},
   "outputs": [],
   "source": []
  }
 ],
 "metadata": {
  "kernelspec": {
   "display_name": "Python 3",
   "language": "python",
   "name": "python3"
  },
  "language_info": {
   "codemirror_mode": {
    "name": "ipython",
    "version": 3
   },
   "file_extension": ".py",
   "mimetype": "text/x-python",
   "name": "python",
   "nbconvert_exporter": "python",
   "pygments_lexer": "ipython3",
   "version": "3.6.7"
  }
 },
 "nbformat": 4,
 "nbformat_minor": 2
}
