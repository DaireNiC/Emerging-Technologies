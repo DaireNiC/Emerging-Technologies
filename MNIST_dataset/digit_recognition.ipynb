{
 "cells": [
  {
   "cell_type": "markdown",
   "metadata": {},
   "source": [
    "# Digit Recognition using MNIST\n"
   ]
  },
  {
   "cell_type": "markdown",
   "metadata": {},
   "source": [
    "In this notebook we create our own digit recogniser. With the combined powers of the [MNIST]() dataset and [Keras]() we can build our own programme that classifies and returns a given image of a digit. \n",
    "\n",
    "The script created will perform the following actions:\n",
    "1. Prepare the MNIST dataset\n",
    "2. Build/train & test a neural network model using the prepared data. \n",
    "3. Pass input of an image to the model.\n",
    "4. Get the result --> a classification of our image"
   ]
  },
  {
   "cell_type": "markdown",
   "metadata": {},
   "source": [
    "## Preparing the data\n",
    "You can download and unzip the raw data in the MNIST data set from [here](). I've demonstrated in a previous [script]() and [notebook]() how to process the binary images. Keras, however, provides an import for the data set, so lets be nice to ourselves and use it. "
   ]
  },
  {
   "cell_type": "code",
   "execution_count": 65,
   "metadata": {},
   "outputs": [],
   "source": [
    "# Import keras.\n",
    "import keras as kr\n",
    "from keras.datasets import mnist # No need to re-invent the wheel..."
   ]
  },
  {
   "cell_type": "markdown",
   "metadata": {},
   "source": [
    "With our dataset imported we can now split it into our train and test sets. Keras can even handle this for us too! Yay."
   ]
  },
  {
   "cell_type": "code",
   "execution_count": 66,
   "metadata": {},
   "outputs": [],
   "source": [
    "(X_train, y_train), (X_test, y_test) = mnist.load_data()"
   ]
  },
  {
   "cell_type": "markdown",
   "metadata": {},
   "source": [
    "It's always a good idea to inspect a few samples in your dataset, just to make sure everything loaded correctly. For this, we can use matplot lib to give us a picture of some sample images. "
   ]
  },
  {
   "cell_type": "code",
   "execution_count": 67,
   "metadata": {},
   "outputs": [
    {
     "data": {
      "image/png": "[encoded data removed]",
      "text/plain": [
       "<Figure size 432x288 with 9 Axes>"
      ]
     },
     "metadata": {},
     "output_type": "display_data"
    }
   ],
   "source": [
    "import matplotlib.pyplot as plt\n",
    "\n",
    "fig = plt.figure()\n",
    "for i in range(9):\n",
    "  plt.subplot(3,3,i+1)\n",
    "  plt.tight_layout()\n",
    "  plt.imshow(X_train[i], cmap='gray', interpolation='none')\n",
    "  plt.title(\"Digit: {}\".format(y_train[i]))\n",
    "  plt.xticks([])\n",
    "  plt.yticks([])"
   ]
  },
  {
   "cell_type": "markdown",
   "metadata": {},
   "source": [
    " ###### Looks good to me!\n"
   ]
  },
  {
   "cell_type": "markdown",
   "metadata": {},
   "source": [
    "We're nearly good to go. However, if we take closer look at our data we can identify an important trend. The pixel value range from 0 to 255. As our images are black and white, most of the values are either very close 255 (white) or at the other end of the spectrum near white(255). We can use matplot to confirm this."
   ]
  },
  {
   "cell_type": "code",
   "execution_count": 68,
   "metadata": {},
   "outputs": [
    {
     "data": {
      "text/plain": [
       "Text(0.5, 1.0, 'Pixel Value Distribution')"
      ]
     },
     "execution_count": 68,
     "metadata": {},
     "output_type": "execute_result"
    },
    {
     "data": {
      "image/png": "[encoded data removed]",
      "text/plain": [
       "<Figure size 432x288 with 2 Axes>"
      ]
     },
     "metadata": {
      "needs_background": "light"
     },
     "output_type": "display_data"
    }
   ],
   "source": [
    "fig = plt.figure()\n",
    "plt.subplot(2,1,1)\n",
    "plt.imshow(X_train[1], cmap='gray', interpolation='none')\n",
    "plt.title(\"Digit: {}\".format(y_train[0]))\n",
    "plt.xticks([])\n",
    "plt.yticks([])\n",
    "plt.subplot(2,1,2)\n",
    "plt.hist(X_train[0].reshape(784))\n",
    "plt.title(\"Pixel Value Distribution\")"
   ]
  },
  {
   "cell_type": "markdown",
   "metadata": {},
   "source": [
    "Given this distribution of our data, it makes sense to normalize it. The benefits of normalization include speeding up the training process and also prevents you from getting stuck in local optima."
   ]
  },
  {
   "cell_type": "markdown",
   "metadata": {},
   "source": [
    "Now, in order to train our neural network to classify images, we first have to unroll the height x width pixel format into one big single dimensional array. Given that our images are 28 x 28, some quick maths tells us that we should create an array of size 784."
   ]
  },
  {
   "cell_type": "code",
   "execution_count": 69,
   "metadata": {},
   "outputs": [
    {
     "name": "stdout",
     "output_type": "stream",
     "text": [
      "Train matrix shape (60000, 784)\n",
      "Test matrix shape (10000, 784)\n"
     ]
    }
   ],
   "source": [
    "# building the input vector from the 28x28 pixels\n",
    "# in each dataset we use numpy to invert the values - so that the background is white and didgit is black\n",
    "X_train = ~np.array(list(X_train)).reshape(60000, 784).astype(np.uint8) \n",
    "X_test = ~np.array(list(X_test)).reshape(10000, 784).astype(np.uint8) \n",
    "\n",
    "# Normalize! \n",
    "X_train = X_train /255\n",
    "Y_train = Y_train/ 255\n",
    "\n",
    "# print the final input shape ready for training\n",
    "print(\"Train matrix shape\", X_train.shape)\n",
    "print(\"Test matrix shape\", X_test.shape)"
   ]
  },
  {
   "cell_type": "markdown",
   "metadata": {},
   "source": [
    "The final step in our dataset prep, is one hot encoding. Rather than labeling things as a number starting from 1 and then increasing for each category, we’ll go for more of a binary style of categorization. This binary style is known as [one-hot encoding](). \n",
    "\n",
    "To represent each category of number,we create an array set to all zeros except for the position of the label we want to represent. Have a look at my sketch image below to clear things up. Thus a '5' will be represented by [0,0,0,0,1,0,0,0,0]."
   ]
  },
  {
   "cell_type": "code",
   "execution_count": 91,
   "metadata": {},
   "outputs": [
    {
     "name": "stdout",
     "output_type": "stream",
     "text": [
      "Shape before one-hot encoding:  (60000,)\n",
      "Shape after one-hot encoding:  (60000, 10)\n"
     ]
    }
   ],
   "source": [
    "from keras.utils import np_utils\n",
    "\n",
    "# one-hot encoding using keras' numpy-related utilities\n",
    "n_classes = 10 # --> classes are the digits 0-9\n",
    "print(\"Shape before one-hot encoding: \", y_train.shape) # before\n",
    "Y_train = np_utils.to_categorical(y_train, n_classes)\n",
    "Y_test = np_utils.to_categorical(y_test, n_classes)\n",
    "print(\"Shape after one-hot encoding: \", Y_train.shape)# after"
   ]
  },
  {
   "cell_type": "markdown",
   "metadata": {},
   "source": [
    "## Building the Neural Network\n",
    "To create our neural network we first import Keras and initialise our model. "
   ]
  },
  {
   "cell_type": "code",
   "execution_count": 92,
   "metadata": {},
   "outputs": [],
   "source": [
    "# Start a neural network, building it by layers.\n",
    "model = kr.models.Sequential()\n"
   ]
  },
  {
   "cell_type": "markdown",
   "metadata": {},
   "source": [
    "We then add our first layer. When adding the first layer in the Sequential Model we need to specify the input shape so Keras can create the appropriate matrices.\n",
    "\n",
    "This contains 600 neurons and features an input layer of size 784. It's no co incidence taht we set our input layer to ( 28 x 28). It corresponds nicely to the data we shaped earlier.  "
   ]
  },
  {
   "cell_type": "code",
   "execution_count": 93,
   "metadata": {},
   "outputs": [],
   "source": [
    "# Add a hidden layer with 1000 neurons and an input layer with 784.\n",
    "model.add(kr.layers.Dense(units=600, activation='linear', input_dim=784))\n"
   ]
  },
  {
   "cell_type": "markdown",
   "metadata": {},
   "source": [
    "We then stack another layer, this time one of 400 neurons. "
   ]
  },
  {
   "cell_type": "code",
   "execution_count": 94,
   "metadata": {},
   "outputs": [],
   "source": [
    "model.add(kr.layers.Dense(units=400, activation='relu'))\n"
   ]
  },
  {
   "cell_type": "markdown",
   "metadata": {},
   "source": [
    "And finally, we construct our ouput layer. This layer contains ten neurons, each to represent one of our possible outputs, i.e a number between 0-9. "
   ]
  },
  {
   "cell_type": "code",
   "execution_count": 95,
   "metadata": {},
   "outputs": [],
   "source": [
    "# Add a ten neuron output layer.\n",
    "model.add(kr.layers.Dense(units=10, activation='softmax'))\n"
   ]
  },
  {
   "cell_type": "markdown",
   "metadata": {},
   "source": [
    "Now we can build the model. I switched from the adam optimizer over . n). Here we specify our loss function (or objective function). For our setting categorical cross entropy fits the bill, but in general other [loss functions](https://keras.io/losses/) are available. "
   ]
  },
  {
   "cell_type": "code",
   "execution_count": 96,
   "metadata": {},
   "outputs": [],
   "source": [
    "# Build the graph.\n",
    "model.compile(loss='categorical_crossentropy', optimizer='adam', metrics=['accuracy'])"
   ]
  },
  {
   "cell_type": "markdown",
   "metadata": {},
   "source": [
    "Having compiled our model we can now start the training process. We have to specify how many times we want to iterate on the whole training set (epochs) and how many samples we use for one update to the model's weights (batch size). Generally the bigger the batch, the more stable our stochastic gradient descent updates will be. "
   ]
  },
  {
   "cell_type": "code",
   "execution_count": 97,
   "metadata": {},
   "outputs": [
    {
     "name": "stdout",
     "output_type": "stream",
     "text": [
      "Train on 60000 samples, validate on 10000 samples\n",
      "Epoch 1/20\n",
      " - 6s - loss: 0.5691 - acc: 0.8294 - val_loss: 1.6211 - val_acc: 0.8979\n",
      "Epoch 2/20\n",
      " - 6s - loss: 0.2502 - acc: 0.9224 - val_loss: 0.9433 - val_acc: 0.9404\n",
      "Epoch 3/20\n",
      " - 6s - loss: 0.1763 - acc: 0.9448 - val_loss: 0.7157 - val_acc: 0.9552\n",
      "Epoch 4/20\n",
      " - 6s - loss: 0.1452 - acc: 0.9549 - val_loss: 0.6252 - val_acc: 0.9606\n",
      "Epoch 5/20\n",
      " - 6s - loss: 0.1414 - acc: 0.9565 - val_loss: 0.6843 - val_acc: 0.9569\n",
      "Epoch 6/20\n",
      " - 7s - loss: 0.1281 - acc: 0.9598 - val_loss: 0.5794 - val_acc: 0.9637\n",
      "Epoch 7/20\n",
      " - 7s - loss: 0.1126 - acc: 0.9654 - val_loss: 0.5401 - val_acc: 0.9663\n",
      "Epoch 8/20\n",
      " - 6s - loss: 0.1147 - acc: 0.9643 - val_loss: 0.5323 - val_acc: 0.9665\n",
      "Epoch 9/20\n",
      " - 6s - loss: 0.1081 - acc: 0.9663 - val_loss: 0.7565 - val_acc: 0.9525\n",
      "Epoch 10/20\n",
      " - 7s - loss: 0.1090 - acc: 0.9665 - val_loss: 0.6765 - val_acc: 0.9573\n",
      "Epoch 11/20\n",
      " - 6s - loss: 0.1034 - acc: 0.9684 - val_loss: 0.6769 - val_acc: 0.9575\n",
      "Epoch 12/20\n",
      " - 6s - loss: 0.0988 - acc: 0.9703 - val_loss: 0.5607 - val_acc: 0.9652\n",
      "Epoch 13/20\n",
      " - 7s - loss: 0.0888 - acc: 0.9724 - val_loss: 0.6208 - val_acc: 0.9610\n",
      "Epoch 14/20\n",
      " - 6s - loss: 0.0888 - acc: 0.9726 - val_loss: 0.4416 - val_acc: 0.9722\n",
      "Epoch 15/20\n",
      " - 7s - loss: 0.0836 - acc: 0.9745 - val_loss: 0.5257 - val_acc: 0.9670\n",
      "Epoch 16/20\n",
      " - 6s - loss: 0.0800 - acc: 0.9754 - val_loss: 0.5547 - val_acc: 0.9655\n",
      "Epoch 17/20\n",
      " - 7s - loss: 0.0850 - acc: 0.9737 - val_loss: 0.4831 - val_acc: 0.9697\n",
      "Epoch 18/20\n",
      " - 7s - loss: 0.0829 - acc: 0.9756 - val_loss: 0.6068 - val_acc: 0.9622\n",
      "Epoch 19/20\n",
      " - 11s - loss: 0.0792 - acc: 0.9762 - val_loss: 0.4199 - val_acc: 0.9734\n",
      "Epoch 20/20\n",
      " - 11s - loss: 0.0796 - acc: 0.9760 - val_loss: 0.4328 - val_acc: 0.9730\n"
     ]
    },
    {
     "data": {
      "text/plain": [
       "<keras.callbacks.History at 0x2978362f9e8>"
      ]
     },
     "execution_count": 97,
     "metadata": {},
     "output_type": "execute_result"
    }
   ],
   "source": [
    " model.fit(X_train, Y_train,\n",
    "          batch_size=120, epochs=20,\n",
    "          verbose=2,\n",
    "          validation_data=(X_test, Y_test))\n"
   ]
  },
  {
   "cell_type": "markdown",
   "metadata": {},
   "source": [
    "Our model has been trained, and accuracy levels are looking good at roughly 97%. We can now confirm this by feeding the model our sample test data and evaluating the accuracy. "
   ]
  },
  {
   "cell_type": "code",
   "execution_count": 77,
   "metadata": {},
   "outputs": [
    {
     "name": "stdout",
     "output_type": "stream",
     "text": [
      "10000/10000 [==============================] - 1s 76us/step\n",
      "Test loss: 1.4850268332208507\n",
      "Test accuracy: 0.9066\n"
     ]
    }
   ],
   "source": [
    "score = model.evaluate(X_test, Y_test, verbose=1)\n",
    "print('Test loss:', score[0])\n",
    "print('Test accuracy:', score[1])\n"
   ]
  },
  {
   "cell_type": "markdown",
   "metadata": {},
   "source": [
    "Let's ask our model to predict the digit given an image from our test set. "
   ]
  },
  {
   "cell_type": "code",
   "execution_count": 82,
   "metadata": {},
   "outputs": [
    {
     "data": {
      "text/plain": [
       "array([[1., 0., 0., 0., 0., 0., 0., 0., 0., 0.]], dtype=float32)"
      ]
     },
     "execution_count": 82,
     "metadata": {},
     "output_type": "execute_result"
    }
   ],
   "source": [
    "model.predict(X_test[10:11])"
   ]
  },
  {
   "cell_type": "markdown",
   "metadata": {},
   "source": [
    "The hot encoding above shows a prediciton of 0. Let's plot this image and double check."
   ]
  },
  {
   "cell_type": "code",
   "execution_count": 84,
   "metadata": {},
   "outputs": [
    {
     "data": {
      "text/plain": [
       "<matplotlib.image.AxesImage at 0x2978585d128>"
      ]
     },
     "execution_count": 84,
     "metadata": {},
     "output_type": "execute_result"
    },
    {
     "data": {
      "image/png": "[encoded data removed]",
      "text/plain": [
       "<Figure size 432x288 with 1 Axes>"
      ]
     },
     "metadata": {
      "needs_background": "light"
     },
     "output_type": "display_data"
    }
   ],
   "source": [
    "plt.imshow((X_test[10]).reshape(28, 28), cmap='gray')\n"
   ]
  },
  {
   "cell_type": "markdown",
   "metadata": {},
   "source": [
    "### Wohoo!\n",
    "<img src=\"https://media.giphy.com/media/3o7abldj0b3rxrZUxW/giphy.gif\"/>"
   ]
  },
  {
   "cell_type": "markdown",
   "metadata": {},
   "source": [
    "Resources: \n",
    "- https://www.quora.com/When-should-you-perform-feature-scaling-and-mean-normalization-on-the-given-data-What-are-the-advantages-of-these-techniques\n",
    "- https://hackernoon.com/what-is-one-hot-encoding-why-and-when-do-you-have-to-use-it-e3c6186d008f\n",
    "- https://stats.stackexchange.com/questions/189652/is-it-a-good-practice-to-always-scale-normalize-data-for-machine-learning\n",
    "- https://towardsdatascience.com/a-simple-2d-cnn-for-mnist-digit-recognition-a998dbc1e79a\n",
    "- https://medium.com/@cafielo/build-a-handwritten-digit-recognition-model-with-keras-b8733274574c"
   ]
  },
  {
   "cell_type": "code",
   "execution_count": null,
   "metadata": {},
   "outputs": [],
   "source": []
  },
  {
   "cell_type": "code",
   "execution_count": null,
   "metadata": {},
   "outputs": [],
   "source": []
  }
 ],
 "metadata": {
  "kernelspec": {
   "display_name": "Python 3",
   "language": "python",
   "name": "python3"
  },
  "language_info": {
   "codemirror_mode": {
    "name": "ipython",
    "version": 3
   },
   "file_extension": ".py",
   "mimetype": "text/x-python",
   "name": "python",
   "nbconvert_exporter": "python",
   "pygments_lexer": "ipython3",
   "version": "3.6.7"
  }
 },
 "nbformat": 4,
 "nbformat_minor": 2
}
